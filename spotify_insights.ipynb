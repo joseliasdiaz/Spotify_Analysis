{
 "cells": [
  {
   "cell_type": "code",
   "execution_count": 1,
   "metadata": {},
   "outputs": [
    {
     "data": {
      "text/plain": [
       "(528, 5)"
      ]
     },
     "execution_count": 1,
     "metadata": {},
     "output_type": "execute_result"
    }
   ],
   "source": [
    "import pandas as pd\n",
    "import numpy as np\n",
    "import sqlite3\n",
    "from datetime import datetime\n",
    "import matplotlib.pyplot as plt\n",
    "import seaborn as sns\n",
    "\n",
    "conn = sqlite3.connect(r'C:\\Users\\josee\\OneDrive\\Escritorio\\Projects\\played_tracks.sqlite')\n",
    "df = pd.read_sql('SELECT * FROM played_tracks', conn)\n",
    "df['explicit'] = df['explicit'].astype(int)\n",
    "df['duration_ms'] = pd.to_timedelta(df['duration_ms'].astype(int), unit = 'ms')\n",
    "df['date'] = df.played_at.apply(lambda x: datetime.strptime(x[:10], '%Y-%m-%d'))\n",
    "df['day_of_week'] = df.date.dt.day_name()\n",
    "df.shape"
   ]
  },
  {
   "cell_type": "code",
   "execution_count": 43,
   "metadata": {},
   "outputs": [
    {
     "data": {
      "text/html": [
       "<div>\n",
       "<style scoped>\n",
       "    .dataframe tbody tr th:only-of-type {\n",
       "        vertical-align: middle;\n",
       "    }\n",
       "\n",
       "    .dataframe tbody tr th {\n",
       "        vertical-align: top;\n",
       "    }\n",
       "\n",
       "    .dataframe thead th {\n",
       "        text-align: right;\n",
       "    }\n",
       "</style>\n",
       "<table border=\"1\" class=\"dataframe\">\n",
       "  <thead>\n",
       "    <tr style=\"text-align: right;\">\n",
       "      <th>day_of_week</th>\n",
       "      <th>Friday</th>\n",
       "      <th>Monday</th>\n",
       "      <th>Saturday</th>\n",
       "      <th>Sunday</th>\n",
       "      <th>Thursday</th>\n",
       "      <th>Tuesday</th>\n",
       "      <th>Wednesday</th>\n",
       "      <th>All</th>\n",
       "    </tr>\n",
       "    <tr>\n",
       "      <th>artist</th>\n",
       "      <th></th>\n",
       "      <th></th>\n",
       "      <th></th>\n",
       "      <th></th>\n",
       "      <th></th>\n",
       "      <th></th>\n",
       "      <th></th>\n",
       "      <th></th>\n",
       "    </tr>\n",
       "  </thead>\n",
       "  <tbody>\n",
       "    <tr>\n",
       "      <th>Bring Me The Horizon</th>\n",
       "      <td>2</td>\n",
       "      <td>17</td>\n",
       "      <td>0</td>\n",
       "      <td>0</td>\n",
       "      <td>7</td>\n",
       "      <td>6</td>\n",
       "      <td>19</td>\n",
       "      <td>51</td>\n",
       "    </tr>\n",
       "    <tr>\n",
       "      <th>Slipknot</th>\n",
       "      <td>2</td>\n",
       "      <td>4</td>\n",
       "      <td>0</td>\n",
       "      <td>0</td>\n",
       "      <td>5</td>\n",
       "      <td>1</td>\n",
       "      <td>4</td>\n",
       "      <td>16</td>\n",
       "    </tr>\n",
       "    <tr>\n",
       "      <th>Korn</th>\n",
       "      <td>2</td>\n",
       "      <td>0</td>\n",
       "      <td>0</td>\n",
       "      <td>0</td>\n",
       "      <td>3</td>\n",
       "      <td>3</td>\n",
       "      <td>6</td>\n",
       "      <td>14</td>\n",
       "    </tr>\n",
       "    <tr>\n",
       "      <th>System Of A Down</th>\n",
       "      <td>0</td>\n",
       "      <td>3</td>\n",
       "      <td>0</td>\n",
       "      <td>0</td>\n",
       "      <td>0</td>\n",
       "      <td>1</td>\n",
       "      <td>2</td>\n",
       "      <td>6</td>\n",
       "    </tr>\n",
       "    <tr>\n",
       "      <th>My Chemical Romance</th>\n",
       "      <td>0</td>\n",
       "      <td>1</td>\n",
       "      <td>0</td>\n",
       "      <td>0</td>\n",
       "      <td>0</td>\n",
       "      <td>2</td>\n",
       "      <td>3</td>\n",
       "      <td>6</td>\n",
       "    </tr>\n",
       "    <tr>\n",
       "      <th>Avenged Sevenfold</th>\n",
       "      <td>0</td>\n",
       "      <td>0</td>\n",
       "      <td>0</td>\n",
       "      <td>0</td>\n",
       "      <td>1</td>\n",
       "      <td>2</td>\n",
       "      <td>2</td>\n",
       "      <td>5</td>\n",
       "    </tr>\n",
       "    <tr>\n",
       "      <th>Rammstein</th>\n",
       "      <td>0</td>\n",
       "      <td>0</td>\n",
       "      <td>0</td>\n",
       "      <td>0</td>\n",
       "      <td>0</td>\n",
       "      <td>0</td>\n",
       "      <td>4</td>\n",
       "      <td>4</td>\n",
       "    </tr>\n",
       "    <tr>\n",
       "      <th>Marilyn Manson</th>\n",
       "      <td>0</td>\n",
       "      <td>1</td>\n",
       "      <td>0</td>\n",
       "      <td>0</td>\n",
       "      <td>2</td>\n",
       "      <td>0</td>\n",
       "      <td>1</td>\n",
       "      <td>4</td>\n",
       "    </tr>\n",
       "    <tr>\n",
       "      <th>zebrahead</th>\n",
       "      <td>1</td>\n",
       "      <td>0</td>\n",
       "      <td>1</td>\n",
       "      <td>1</td>\n",
       "      <td>0</td>\n",
       "      <td>0</td>\n",
       "      <td>1</td>\n",
       "      <td>4</td>\n",
       "    </tr>\n",
       "    <tr>\n",
       "      <th>Stone Sour</th>\n",
       "      <td>0</td>\n",
       "      <td>1</td>\n",
       "      <td>0</td>\n",
       "      <td>0</td>\n",
       "      <td>1</td>\n",
       "      <td>1</td>\n",
       "      <td>0</td>\n",
       "      <td>3</td>\n",
       "    </tr>\n",
       "  </tbody>\n",
       "</table>\n",
       "</div>"
      ],
      "text/plain": [
       "day_of_week           Friday  Monday  Saturday  Sunday  Thursday  Tuesday  \\\n",
       "artist                                                                      \n",
       "Bring Me The Horizon       2      17         0       0         7        6   \n",
       "Slipknot                   2       4         0       0         5        1   \n",
       "Korn                       2       0         0       0         3        3   \n",
       "System Of A Down           0       3         0       0         0        1   \n",
       "My Chemical Romance        0       1         0       0         0        2   \n",
       "Avenged Sevenfold          0       0         0       0         1        2   \n",
       "Rammstein                  0       0         0       0         0        0   \n",
       "Marilyn Manson             0       1         0       0         2        0   \n",
       "zebrahead                  1       0         1       1         0        0   \n",
       "Stone Sour                 0       1         0       0         1        1   \n",
       "\n",
       "day_of_week           Wednesday  All  \n",
       "artist                                \n",
       "Bring Me The Horizon         19   51  \n",
       "Slipknot                      4   16  \n",
       "Korn                          6   14  \n",
       "System Of A Down              2    6  \n",
       "My Chemical Romance           3    6  \n",
       "Avenged Sevenfold             2    5  \n",
       "Rammstein                     4    4  \n",
       "Marilyn Manson                1    4  \n",
       "zebrahead                     1    4  \n",
       "Stone Sour                    0    3  "
      ]
     },
     "execution_count": 43,
     "metadata": {},
     "output_type": "execute_result"
    }
   ],
   "source": [
    "explicit_table = pd.pivot_table(data = df[df['explicit'] == 1], index= 'artist', values= 'explicit', \n",
    "                columns= 'day_of_week', aggfunc= 'sum', margins= True, sort = True, fill_value=0)\n",
    "\n",
    "explicit_table[:-1].sort_values('All', ascending = False).head(10)"
   ]
  },
  {
   "cell_type": "code",
   "execution_count": 45,
   "metadata": {},
   "outputs": [
    {
     "data": {
      "text/plain": [
       "explicit\n",
       "0    0.719697\n",
       "1    0.280303\n",
       "Name: track, dtype: float64"
      ]
     },
     "execution_count": 45,
     "metadata": {},
     "output_type": "execute_result"
    }
   ],
   "source": [
    "df.groupby('explicit')['track'].count()/df['track'].count()"
   ]
  },
  {
   "cell_type": "code",
   "execution_count": 3,
   "metadata": {},
   "outputs": [
    {
     "data": {
      "text/html": [
       "<div>\n",
       "<style scoped>\n",
       "    .dataframe tbody tr th:only-of-type {\n",
       "        vertical-align: middle;\n",
       "    }\n",
       "\n",
       "    .dataframe tbody tr th {\n",
       "        vertical-align: top;\n",
       "    }\n",
       "\n",
       "    .dataframe thead th {\n",
       "        text-align: right;\n",
       "    }\n",
       "</style>\n",
       "<table border=\"1\" class=\"dataframe\">\n",
       "  <thead>\n",
       "    <tr style=\"text-align: right;\">\n",
       "      <th></th>\n",
       "      <th>explicit</th>\n",
       "    </tr>\n",
       "    <tr>\n",
       "      <th>artist</th>\n",
       "      <th></th>\n",
       "    </tr>\n",
       "  </thead>\n",
       "  <tbody>\n",
       "    <tr>\n",
       "      <th>Bring Me The Horizon</th>\n",
       "      <td>51</td>\n",
       "    </tr>\n",
       "    <tr>\n",
       "      <th>Slipknot</th>\n",
       "      <td>16</td>\n",
       "    </tr>\n",
       "    <tr>\n",
       "      <th>Korn</th>\n",
       "      <td>14</td>\n",
       "    </tr>\n",
       "    <tr>\n",
       "      <th>System Of A Down</th>\n",
       "      <td>6</td>\n",
       "    </tr>\n",
       "    <tr>\n",
       "      <th>My Chemical Romance</th>\n",
       "      <td>6</td>\n",
       "    </tr>\n",
       "    <tr>\n",
       "      <th>Avenged Sevenfold</th>\n",
       "      <td>5</td>\n",
       "    </tr>\n",
       "    <tr>\n",
       "      <th>Rammstein</th>\n",
       "      <td>4</td>\n",
       "    </tr>\n",
       "    <tr>\n",
       "      <th>Marilyn Manson</th>\n",
       "      <td>4</td>\n",
       "    </tr>\n",
       "    <tr>\n",
       "      <th>zebrahead</th>\n",
       "      <td>4</td>\n",
       "    </tr>\n",
       "    <tr>\n",
       "      <th>Stone Sour</th>\n",
       "      <td>3</td>\n",
       "    </tr>\n",
       "  </tbody>\n",
       "</table>\n",
       "</div>"
      ],
      "text/plain": [
       "                      explicit\n",
       "artist                        \n",
       "Bring Me The Horizon        51\n",
       "Slipknot                    16\n",
       "Korn                        14\n",
       "System Of A Down             6\n",
       "My Chemical Romance          6\n",
       "Avenged Sevenfold            5\n",
       "Rammstein                    4\n",
       "Marilyn Manson               4\n",
       "zebrahead                    4\n",
       "Stone Sour                   3"
      ]
     },
     "execution_count": 3,
     "metadata": {},
     "output_type": "execute_result"
    }
   ],
   "source": [
    "\n",
    "df.loc[df['explicit'] == 1, ['artist','explicit']].groupby('artist').sum().sort_values('explicit',ascending=False).head(10)"
   ]
  },
  {
   "cell_type": "code",
   "execution_count": 4,
   "metadata": {},
   "outputs": [
    {
     "data": {
      "text/plain": [
       "artist\n",
       "Bring Me The Horizon   0 days 04:55:18.201000\n",
       "Slipknot               0 days 02:13:33.725000\n",
       "Korn                   0 days 02:09:10.991000\n",
       "Avenged Sevenfold      0 days 01:34:48.897000\n",
       "Ghost                  0 days 01:33:22.939000\n",
       "System Of A Down       0 days 01:23:24.062000\n",
       "Drowning Pool          0 days 01:22:53.818000\n",
       "Rise Against           0 days 00:50:21.758000\n",
       "Disturbed              0 days 00:45:21.303000\n",
       "My Chemical Romance    0 days 00:44:56.505000\n",
       "Name: duration_ms, dtype: timedelta64[ns]"
      ]
     },
     "execution_count": 4,
     "metadata": {},
     "output_type": "execute_result"
    }
   ],
   "source": [
    "df.groupby('artist')['duration_ms'].sum().sort_values(ascending= False).head(10)"
   ]
  },
  {
   "cell_type": "code",
   "execution_count": 5,
   "metadata": {},
   "outputs": [
    {
     "data": {
      "text/plain": [
       "track                         artist              \n",
       "Obey (with YUNGBLUD)          Bring Me The Horizon   0 days 00:29:24.304000\n",
       "Kingslayer (feat. BABYMETAL)  Bring Me The Horizon   0 days 00:29:20.328000\n",
       "Lost In The Grandeur          Korn                   0 days 00:26:50.091000\n",
       "The Chapeltown Rag            Slipknot               0 days 00:24:18.300000\n",
       "Bodies                        Drowning Pool          0 days 00:23:35.238000\n",
       "Forgotten                     Korn                   0 days 00:23:00.491000\n",
       "The Rumbling                  SiM                    0 days 00:22:04.794000\n",
       "Nero Forte                    Slipknot               0 days 00:21:00.708000\n",
       "1x1 (feat. Nova Twins)        Bring Me The Horizon   0 days 00:20:57.588000\n",
       "Nightmare                     Avenged Sevenfold      0 days 00:18:43.359000\n",
       "Name: duration_ms, dtype: timedelta64[ns]"
      ]
     },
     "execution_count": 5,
     "metadata": {},
     "output_type": "execute_result"
    }
   ],
   "source": [
    "df.groupby(['track','artist'])['duration_ms'].sum().sort_values(ascending= False).head(10)"
   ]
  },
  {
   "cell_type": "code",
   "execution_count": 6,
   "metadata": {},
   "outputs": [
    {
     "data": {
      "text/plain": [
       "track                         artist              \n",
       "Obey (with YUNGBLUD)          Bring Me The Horizon    8\n",
       "Kingslayer (feat. BABYMETAL)  Bring Me The Horizon    8\n",
       "Forgotten                     Korn                    7\n",
       "Bodies                        Drowning Pool           7\n",
       "Lost In The Grandeur          Korn                    7\n",
       "The Rumbling                  SiM                     6\n",
       "1x1 (feat. Nova Twins)        Bring Me The Horizon    6\n",
       "Teardrops                     Bring Me The Horizon    5\n",
       "Reminded                      Drowning Pool           5\n",
       "Start The Healing             Korn                    5\n",
       "Name: track, dtype: int64"
      ]
     },
     "execution_count": 6,
     "metadata": {},
     "output_type": "execute_result"
    }
   ],
   "source": [
    "df.groupby(['track','artist'])['track'].count().sort_values(ascending = False).head(10)"
   ]
  },
  {
   "cell_type": "code",
   "execution_count": 7,
   "metadata": {},
   "outputs": [],
   "source": []
  },
  {
   "cell_type": "code",
   "execution_count": 29,
   "metadata": {},
   "outputs": [
    {
     "data": {
      "image/png": "[encoded data removed]",
      "text/plain": [
       "<Figure size 432x288 with 1 Axes>"
      ]
     },
     "metadata": {
      "needs_background": "light"
     },
     "output_type": "display_data"
    }
   ],
   "source": [
    "DATA = df.groupby('artist')['track'].count().sort_values(ascending = False).reset_index().head(10)\n",
    "graf = sns.barplot(x = 'track',y = 'artist', data = DATA,errwidth=0)\n",
    "graf.bar_label(graf.containers[0])\n",
    "graf = graf.set_title(\"Top 10 Artist\")\n",
    "#plt.xticks(rotation=90)\n",
    "plt.show()"
   ]
  },
  {
   "cell_type": "code",
   "execution_count": 10,
   "metadata": {},
   "outputs": [
    {
     "data": {
      "image/png": "[encoded data removed]",
      "text/plain": [
       "<Figure size 360x360 with 1 Axes>"
      ]
     },
     "metadata": {
      "needs_background": "light"
     },
     "output_type": "display_data"
    }
   ],
   "source": [
    "DATA = df.groupby('date')['track'].count().reset_index()\n",
    "graf = sns.relplot(x= 'date', y= 'track' , data = DATA , kind=\"line\")\n",
    "graf.set(xticks=df.date.values)\n",
    "plt.xticks(rotation=90)\n",
    "plt.show()\n"
   ]
  },
  {
   "cell_type": "code",
   "execution_count": 48,
   "metadata": {},
   "outputs": [
    {
     "data": {
      "image/png": "[encoded data removed]",
      "text/plain": [
       "<Figure size 432x288 with 1 Axes>"
      ]
     },
     "metadata": {
      "needs_background": "light"
     },
     "output_type": "display_data"
    }
   ],
   "source": [
    "day_group = df.groupby(['date','day_of_week'])['track'].count().reset_index()\n",
    "DATA = day_group.groupby('day_of_week')['track'].mean().sort_values(ascending = False).reset_index()\n",
    "graf = sns.barplot(y = 'track',x = 'day_of_week', data = DATA,errwidth=0)\n",
    "graf.bar_label(graf.containers[0])\n",
    "graf = graf.set_title(\"Top day of listenning\")\n",
    "plt.show()"
   ]
  },
  {
   "cell_type": "code",
   "execution_count": 55,
   "metadata": {},
   "outputs": [
    {
     "data": {
      "image/png": "[encoded data removed]",
      "text/plain": [
       "<Figure size 432x288 with 1 Axes>"
      ]
     },
     "metadata": {
      "needs_background": "light"
     },
     "output_type": "display_data"
    }
   ],
   "source": [
    "DATA =  df.groupby(['date','day_of_week','explicit'])['track'].count().reset_index()\n",
    "graf = sns.boxplot(y = 'track',x = 'day_of_week', hue = 'explicit', data = DATA)\n",
    "plt.show()"
   ]
  }
 ],
 "metadata": {
  "interpreter": {
   "hash": "66cbc8f9596f018c0b4d9b8753b8fc7851886d5932cdb0114d5164535becd99b"
  },
  "kernelspec": {
   "display_name": "Python 3.8.3 64-bit",
   "language": "python",
   "name": "python3"
  },
  "language_info": {
   "codemirror_mode": {
    "name": "ipython",
    "version": 3
   },
   "file_extension": ".py",
   "mimetype": "text/x-python",
   "name": "python",
   "nbconvert_exporter": "python",
   "pygments_lexer": "ipython3",
   "version": "3.8.3"
  },
  "orig_nbformat": 4
 },
 "nbformat": 4,
 "nbformat_minor": 2
}
